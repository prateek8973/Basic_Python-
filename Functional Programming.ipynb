{
 "cells": [
  {
   "cell_type": "code",
   "execution_count": null,
   "id": "975bdd99",
   "metadata": {},
   "outputs": [],
   "source": [
    "fruits=[\"mango\",\"apple\",\"banana\",\"orange\",\"pineapple\",\"watermelon\",\"guava\",\"kiwi\"]\n",
    "basket=iter(fruits)\n",
    "print(next(basket))\n",
    "print(next(basket))"
   ]
  },
  {
   "cell_type": "markdown",
   "id": "d0126c07",
   "metadata": {},
   "source": [
    "# Generator"
   ]
  },
  {
   "cell_type": "code",
   "execution_count": 3,
   "id": "50e0464f",
   "metadata": {},
   "outputs": [
    {
     "name": "stdout",
     "output_type": "stream",
     "text": [
      "0 0\n",
      "1 1\n",
      "4 8\n",
      "9 27\n"
     ]
    }
   ],
   "source": [
    "def square(limit):\n",
    "    x=0\n",
    "    while x<limit:\n",
    "        yield x*x\n",
    "        yield x*x*x\n",
    "        x+=1\n",
    "a=square(5)\n",
    "print(next(a),next(a))\n",
    "print(next(a),next(a))\n",
    "print(next(a),next(a))\n",
    "print(next(a),next(a))"
   ]
  },
  {
   "cell_type": "code",
   "execution_count": 4,
   "id": "7cc3cc6b",
   "metadata": {
    "scrolled": true
   },
   "outputs": [
    {
     "name": "stdout",
     "output_type": "stream",
     "text": [
      "20\n"
     ]
    }
   ],
   "source": [
    "a,b=100,20\n",
    "small=a if a<b else b\n",
    "print(small)"
   ]
  },
  {
   "cell_type": "code",
   "execution_count": 5,
   "id": "4c96820e",
   "metadata": {},
   "outputs": [
    {
     "name": "stdout",
     "output_type": "stream",
     "text": [
      "['Mango', 'Banana', 'Orange', 'Pineapple', 'Watermelon']\n"
     ]
    }
   ],
   "source": [
    "#List comprehension\n",
    "fruits=[\"mango\",\"apple\",\"banana\",\"orange\",\"pineapple\",\"watermelon\",\"guava\",\"kiwi\"]\n",
    "newList=[fruit.capitalize() for fruit in fruits if 'n' in fruit]\n",
    "print(newList)"
   ]
  },
  {
   "cell_type": "markdown",
   "id": "fdaaea29",
   "metadata": {},
   "source": [
    "# Lambda functions"
   ]
  },
  {
   "cell_type": "code",
   "execution_count": 1,
   "id": "35a46305",
   "metadata": {},
   "outputs": [
    {
     "name": "stdout",
     "output_type": "stream",
     "text": [
      "30\n",
      "-10\n",
      "200\n",
      "0.5\n"
     ]
    }
   ],
   "source": [
    "add=lambda x,y:x+y\n",
    "sub=lambda x,y:x-y\n",
    "mul=lambda x,y:x*y\n",
    "div=lambda x,y:x/y\n",
    "print(add(10,20))\n",
    "print(sub(10,20))\n",
    "print(mul(10,20))\n",
    "print(div(10,20))"
   ]
  },
  {
   "cell_type": "markdown",
   "id": "efb96fe8",
   "metadata": {},
   "source": [
    "# Enumerate"
   ]
  },
  {
   "cell_type": "code",
   "execution_count": 2,
   "id": "6334e608",
   "metadata": {},
   "outputs": [
    {
     "name": "stdout",
     "output_type": "stream",
     "text": [
      "(0, 'mango')\n",
      "(1, 'apple')\n",
      "(2, 'banana')\n",
      "(3, 'orange')\n",
      "(4, 'pineapple')\n",
      "(5, 'watermelon')\n",
      "(6, 'guava')\n",
      "(7, 'kiwi')\n"
     ]
    }
   ],
   "source": [
    "fruits=[\"mango\",\"apple\",\"banana\",\"orange\",\"pineapple\",\"watermelon\",\"guava\",\"kiwi\"]\n",
    "for fruit in enumerate(fruits):\n",
    "    print(fruit)\n",
    "    "
   ]
  },
  {
   "cell_type": "code",
   "execution_count": 5,
   "id": "5c10ecaa",
   "metadata": {},
   "outputs": [
    {
     "name": "stdout",
     "output_type": "stream",
     "text": [
      "[('mango', 5), ('apple', 5), ('banana', 6), ('orange', 6), ('pineapple', 9), ('watermelon', 10), ('guava', 5), ('kiwi', 4)]\n",
      "{'mango': 5, 'apple': 5, 'banana': 6, 'orange': 6, 'pineapple': 9, 'watermelon': 10, 'guava': 5, 'kiwi': 4}\n"
     ]
    }
   ],
   "source": [
    "fruits=[\"mango\",\"apple\",\"banana\",\"orange\",\"pineapple\",\"watermelon\",\"guava\",\"kiwi\"]\n",
    "size=[5,5,6,6,9,10,5,4]\n",
    "print(list(zip(fruits,size)))\n",
    "print(dict(zip(fruits,size)))"
   ]
  },
  {
   "cell_type": "markdown",
   "id": "86e9e190",
   "metadata": {},
   "source": [
    "# Map function"
   ]
  },
  {
   "cell_type": "code",
   "execution_count": null,
   "id": "02f19c92",
   "metadata": {},
   "outputs": [],
   "source": [
    "a=[10,20,30,40,50,60]"
   ]
  }
 ],
 "metadata": {
  "kernelspec": {
   "display_name": "Python 3 (ipykernel)",
   "language": "python",
   "name": "python3"
  },
  "language_info": {
   "codemirror_mode": {
    "name": "ipython",
    "version": 3
   },
   "file_extension": ".py",
   "mimetype": "text/x-python",
   "name": "python",
   "nbconvert_exporter": "python",
   "pygments_lexer": "ipython3",
   "version": "3.10.9"
  }
 },
 "nbformat": 4,
 "nbformat_minor": 5
}
