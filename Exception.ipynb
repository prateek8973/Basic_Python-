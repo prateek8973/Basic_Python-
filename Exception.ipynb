{
 "cells": [
  {
   "cell_type": "code",
   "execution_count": 6,
   "id": "53dfe7bc",
   "metadata": {},
   "outputs": [
    {
     "name": "stdout",
     "output_type": "stream",
     "text": [
      "20\n",
      "6\n",
      "3.3333333333333335\n",
      "thank you for using our service\n"
     ]
    }
   ],
   "source": [
    "a=int(input())\n",
    "b=int(input())\n",
    "try:\n",
    "    c=a/b\n",
    "    print(c)\n",
    "except ZeroDivisionError:\n",
    "    print('Invalid input,divisor cant be zero')\n",
    "except:\n",
    "    print(\"Something went wrong\")\n",
    "finally:\n",
    "    print(\"thank you for using our service\")\n",
    "    "
   ]
  },
  {
   "cell_type": "code",
   "execution_count": null,
   "id": "984ad27c",
   "metadata": {},
   "outputs": [],
   "source": []
  },
  {
   "cell_type": "markdown",
   "id": "70216470",
   "metadata": {},
   "source": [
    "# Exception propagation mechanism"
   ]
  },
  {
   "cell_type": "code",
   "execution_count": 1,
   "id": "eef09001",
   "metadata": {},
   "outputs": [
    {
     "name": "stdout",
     "output_type": "stream",
     "text": [
      "in h, before g()\n",
      "in g, before f()\n",
      "in f, before 1/0\n",
      "ZD exception caught\n",
      "function h ends\n"
     ]
    }
   ],
   "source": [
    "def f():\n",
    "     print('in f, before 1/0')\n",
    "     1/0 # raises a ZeroDivisionError exception\n",
    "     print('in f, after 1/0')\n",
    "def g():\n",
    "     print('in g, before f()')\n",
    "     f()\n",
    "     print('in g, after f()')\n",
    "def h():\n",
    " print('in h, before g()')\n",
    " try:\n",
    "     g()\n",
    "     print('in h, after g()')\n",
    "     \n",
    " except ZeroDivisionError:\n",
    "    print('ZD exception caught')\n",
    " print('function h ends')\n",
    "h()"
   ]
  },
  {
   "cell_type": "code",
   "execution_count": null,
   "id": "cdeb8567",
   "metadata": {},
   "outputs": [],
   "source": []
  }
 ],
 "metadata": {
  "kernelspec": {
   "display_name": "Python 3 (ipykernel)",
   "language": "python",
   "name": "python3"
  },
  "language_info": {
   "codemirror_mode": {
    "name": "ipython",
    "version": 3
   },
   "file_extension": ".py",
   "mimetype": "text/x-python",
   "name": "python",
   "nbconvert_exporter": "python",
   "pygments_lexer": "ipython3",
   "version": "3.10.9"
  }
 },
 "nbformat": 4,
 "nbformat_minor": 5
}
