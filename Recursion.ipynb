{
 "cells": [
  {
   "cell_type": "code",
   "execution_count": null,
   "id": "851b1883",
   "metadata": {},
   "outputs": [],
   "source": [
    "def rbinary_search(L,k,begin,end):\n",
    "    if(begin==end):\n",
    "        if(L[begin]==k):\n",
    "            return 1\n",
    "        else:\n",
    "            return 0\n",
    "    if(end-begin==1):\n",
    "        if(L[begin]==k) or (L[end]==k):\n",
    "            return 1\n",
    "        else:\n",
    "            return 0\n",
    "    if(end-begin==1):\n",
    "        mid=(begin+end)//2\n",
    "        if (L[mid]>k):\n",
    "            end=mid-1\n",
    "        if(L[mid]<k):\n",
    "            begin=mid+1\n",
    "        if(L[mid]==k):\n",
    "            return 1\n",
    "        if(end-begin<0):\n",
    "            return 0\n",
    "return rbinary_search(L,k,begin,end)"
   ]
  },
  {
   "cell_type": "code",
   "execution_count": 38,
   "id": "4ce6e573",
   "metadata": {},
   "outputs": [
    {
     "name": "stdout",
     "output_type": "stream",
     "text": [
      "1\n"
     ]
    }
   ],
   "source": [
    "L=['apples','oranges','apples','grapes']\n",
    "def count(L,word):\n",
    "    if word not in L:\n",
    "        return 1\n",
    "    else:\n",
    "        L.remove(word)\n",
    "        return 1+count(L,word)\n",
    "print(count(L,'oranges')-1)"
   ]
  },
  {
   "cell_type": "code",
   "execution_count": 19,
   "id": "2295b168",
   "metadata": {},
   "outputs": [
    {
     "name": "stdout",
     "output_type": "stream",
     "text": [
      "[1, 2, 3, 4]\n"
     ]
    }
   ],
   "source": [
    "def uniq(L):\n",
    "    for x in L:\n",
    "        if(L.count(x)==1):\n",
    "            continue\n",
    "        else:\n",
    "            L.remove(x)\n",
    "            return uniq(L)\n",
    "    return L\n",
    "        \n",
    "L1=[1,1,2,3,4]\n",
    "print(uniq(L1))\n"
   ]
  },
  {
   "cell_type": "code",
   "execution_count": null,
   "id": "4245b52b",
   "metadata": {},
   "outputs": [],
   "source": [
    "#print 1 to n using recursion\n",
    "n=int(input())\n",
    "def recursion_print(n):\n",
    "    if n==1:\n",
    "        return 1\n",
    "    else:\n",
    "        return recursion_print(n-1)\n",
    "recursion_print(n)"
   ]
  },
  {
   "cell_type": "code",
   "execution_count": 8,
   "id": "c59f992c",
   "metadata": {},
   "outputs": [
    {
     "name": "stdout",
     "output_type": "stream",
     "text": [
      "2.75\n"
     ]
    }
   ],
   "source": [
    "#mean of array using recursion\n",
    "def mean_array(L):\n",
    "    if len(L)==1:\n",
    "        return L[0]\n",
    "    else:\n",
    "        return L[0]+mean_array(L[1:])\n",
    "\n",
    "L=[1,2,3,5]\n",
    "avg=mean_array(L)/len(L)\n",
    "print(avg)"
   ]
  },
  {
   "cell_type": "code",
   "execution_count": 20,
   "id": "4885fc53",
   "metadata": {},
   "outputs": [
    {
     "name": "stdout",
     "output_type": "stream",
     "text": [
      "23\n",
      "010111\n"
     ]
    }
   ],
   "source": [
    "#decimal to binary using recursion\n",
    "def deci_bin(n):\n",
    "    if n==0:\n",
    "        return \"0\"\n",
    "    else:\n",
    "        r=0\n",
    "        r=n%2\n",
    "        return deci_bin(n//2)+str(r)\n",
    "n=int(input())\n",
    "print(deci_bin(n))"
   ]
  },
  {
   "cell_type": "code",
   "execution_count": 24,
   "id": "7e0968a4",
   "metadata": {},
   "outputs": [
    {
     "name": "stdout",
     "output_type": "stream",
     "text": [
      "5678\n",
      "26\n"
     ]
    }
   ],
   "source": [
    "#sum of digit using recursion \n",
    "def sum_digit(n):\n",
    "    if n<10:\n",
    "        return n\n",
    "    else:\n",
    "        r=0\n",
    "        r=n%10\n",
    "        return r+sum_digit(n//10)\n",
    "n=int(input())\n",
    "print(sum_digit(n))"
   ]
  }
 ],
 "metadata": {
  "kernelspec": {
   "display_name": "Python 3 (ipykernel)",
   "language": "python",
   "name": "python3"
  },
  "language_info": {
   "codemirror_mode": {
    "name": "ipython",
    "version": 3
   },
   "file_extension": ".py",
   "mimetype": "text/x-python",
   "name": "python",
   "nbconvert_exporter": "python",
   "pygments_lexer": "ipython3",
   "version": "3.10.9"
  }
 },
 "nbformat": 4,
 "nbformat_minor": 5
}
