{
 "cells": [
  {
   "cell_type": "code",
   "execution_count": 9,
   "id": "8bf4c656",
   "metadata": {},
   "outputs": [
    {
     "name": "stdout",
     "output_type": "stream",
     "text": [
      "23\n"
     ]
    }
   ],
   "source": [
    "class Dog:\n",
    "    def __init__(self,name,age):\n",
    "        self.name=name\n",
    "        self.age=age\n",
    "        \n",
    "    def get_name(self):  #self argument receives the object as an argument\n",
    "        return self.name\n",
    "    def get_age(self):\n",
    "        return self.age\n",
    "    def set_age(self,age):\n",
    "        self.age=age\n",
    "d=Dog(\"Prateek\",34)\n",
    "d.set_age(23)\n",
    "print(d.get_age())"
   ]
  },
  {
   "cell_type": "code",
   "execution_count": 10,
   "id": "454c3792",
   "metadata": {},
   "outputs": [
    {
     "data": {
      "text/plain": [
       "True"
      ]
     },
     "execution_count": 10,
     "metadata": {},
     "output_type": "execute_result"
    }
   ],
   "source": [
    "class Student:\n",
    "    def __init__(self,name,age,grade):\n",
    "        self.name=name\n",
    "        self.age=age\n",
    "        self.grade=grade\n",
    "        \n",
    "    def get_grade(self):\n",
    "        return self.grade\n",
    "    \n",
    "class Course:\n",
    "    def __init__(self,name,max_students):\n",
    "        self.name=name\n",
    "        self.max_students=max_students\n",
    "        self.students=[]\n",
    "        \n",
    "    def add_student(self,student):\n",
    "        if len(self.students)<self.max_students:\n",
    "            self.students.append(student)\n",
    "            return True\n",
    "        return False\n",
    "    def get_average_grade(self):\n",
    "        pass\n",
    "    \n",
    "s1=Student(\"Tim\",19,95)\n",
    "s2=Student(\"Bill\",19,75)\n",
    "s3=Student(\"Jill\",19,65)\n",
    "\n",
    "course=Course(\"Science\",2)\n",
    "course.add_student(s1)\n",
    "course.add_student(s2)\n"
   ]
  },
  {
   "cell_type": "code",
   "execution_count": 18,
   "id": "f7b4bf70",
   "metadata": {},
   "outputs": [
    {
     "name": "stdout",
     "output_type": "stream",
     "text": [
      "I dont know what i say\n",
      "Meow\n",
      "I am Bill and I am 34 years old and I am Brown\n",
      "bark\n",
      "I dont know what i say\n"
     ]
    }
   ],
   "source": [
    "#Inheritance\n",
    "class Pet:\n",
    "    def __init__(self,name,age):\n",
    "        self.name=name\n",
    "        self.age=age\n",
    "    def show(self):\n",
    "        print(f\"I am {self.name} and I am {self.age} years old\")\n",
    "    def speak(self):\n",
    "        print(\"I dont know what i say\")\n",
    "#subclasses inherit functions of parent class        \n",
    "class Cat(Pet):\n",
    "    def __init__(self,name,age,color):\n",
    "        super().__init__(name,age)      #super keyword refers to parent class\n",
    "        self.color=color\n",
    "    def speak(self):\n",
    "        print(\"Meow\")\n",
    "    def show(self):\n",
    "        print(f\"I am {self.name} and I am {self.age} years old and I am {self.color}\")\n",
    "        \n",
    "class Dog(Pet):\n",
    "    def speak(self):\n",
    "        print(\"bark\")\n",
    "class Fish(Pet):\n",
    "    pass\n",
    "        \n",
    "p=Pet(\"Tim\",19)\n",
    "p.speak()\n",
    "c=Cat(\"Bill\",34,\"Brown\")\n",
    "c.speak()\n",
    "c.show()\n",
    "d=Dog(\"Jill\",25)\n",
    "d.speak()\n",
    "f=Fish(\"Bubbles\",10)\n",
    "f.speak()"
   ]
  },
  {
   "cell_type": "code",
   "execution_count": 21,
   "id": "ae4097b9",
   "metadata": {},
   "outputs": [
    {
     "name": "stdout",
     "output_type": "stream",
     "text": [
      "10\n",
      "run\n"
     ]
    }
   ],
   "source": [
    "#static method\n",
    "class Math:\n",
    "    @staticmethod\n",
    "    def add5(x):  #no self or cls, only pass argument x\n",
    "        return x+5\n",
    "    @staticmethod\n",
    "    def pr():\n",
    "        print(\"run\")\n",
    "print(Math.add5(5))\n",
    "Math.pr()"
   ]
  },
  {
   "cell_type": "code",
   "execution_count": 2,
   "id": "4435108b",
   "metadata": {},
   "outputs": [
    {
     "name": "stdout",
     "output_type": "stream",
     "text": [
      "Apes gibber. \n",
      "Snakes hiss. \n",
      "Dogs bark. \n",
      "Tiger roar. \n",
      "Bear growl. \n"
     ]
    }
   ],
   "source": [
    "#abstract class\n",
    "from abc import ABC,abstractmethod\n",
    "class Animal(ABC):\n",
    "    def makesSound(self):\n",
    "        pass\n",
    "class Apes(Animal):\n",
    "    def makesSound(self):\n",
    "        print(\"Apes gibber. \")\n",
    "class Snake(Animal):\n",
    "    def makesSound(self):\n",
    "        print(\"Snakes hiss. \")\n",
    "class Dog(Animal):\n",
    "    def makesSound(self):\n",
    "        print(\"Dogs bark. \")\n",
    "class Tiger(Animal):\n",
    "    def makesSound(self):\n",
    "        print(\"Tiger roar. \")\n",
    "class Bear(Animal):\n",
    "    def makesSound(self):\n",
    "        print(\"Bear growl. \")\n",
    "#Driver code\n",
    "apes=Apes()\n",
    "apes.makesSound()\n",
    "snake=Snake()\n",
    "snake.makesSound()\n",
    "dog=Dog()\n",
    "dog.makesSound()\n",
    "tiger=Tiger()\n",
    "tiger.makesSound()\n",
    "bear=Bear()\n",
    "bear.makesSound()\n"
   ]
  },
  {
   "cell_type": "code",
   "execution_count": 4,
   "id": "1d4ff280",
   "metadata": {},
   "outputs": [
    {
     "name": "stdout",
     "output_type": "stream",
     "text": [
      "Enter Date,month and year in the following format[dd.mm.yyyy]:13.25.2300\n",
      "Invalid date. \n"
     ]
    }
   ],
   "source": [
    "#Python class that is initialized with date and displays it if it is valid\n",
    "import datetime\n",
    "class Date:\n",
    "    def __init__(self,dd,mm,yr):\n",
    "        self.dd=dd\n",
    "        self.mm=mm\n",
    "        self.yr=yr\n",
    "        self.__checkDate()\n",
    "    def __checkDate(self):\n",
    "        isValid=True\n",
    "        \"\"\"the following uses datetime constructor.If the date is invalid then raises exception\"\"\"\n",
    "        try:\n",
    "            datetime.datetime(self.yr,self.mm,self.dd)\n",
    "        except ValueError:\n",
    "            isValid=False\n",
    "        if isValid:\n",
    "            print('Input date is valid:',self.dd,'.',self.mm,'.',self.yr)\n",
    "        else:\n",
    "            print('Invalid date. ')\n",
    "try:\n",
    "    date=input('Enter Date,month and year in the following format[dd.mm.yyyy]:')\n",
    "    dd=int(date.split('.')[0])\n",
    "    mm=int(date.split('.')[1])\n",
    "    yr=int(date.split('.')[2])\n",
    "except ValueError:\n",
    "    print('Date entered is in incorrect format',date)\n",
    "d=Date(dd,mm,yr)\n"
   ]
  },
  {
   "cell_type": "code",
   "execution_count": null,
   "id": "2128d462",
   "metadata": {},
   "outputs": [],
   "source": [
    "\n",
    "\n",
    "    "
   ]
  }
 ],
 "metadata": {
  "kernelspec": {
   "display_name": "Python 3 (ipykernel)",
   "language": "python",
   "name": "python3"
  },
  "language_info": {
   "codemirror_mode": {
    "name": "ipython",
    "version": 3
   },
   "file_extension": ".py",
   "mimetype": "text/x-python",
   "name": "python",
   "nbconvert_exporter": "python",
   "pygments_lexer": "ipython3",
   "version": "3.10.9"
  }
 },
 "nbformat": 4,
 "nbformat_minor": 5
}
