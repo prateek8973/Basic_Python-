{
 "cells": [
  {
   "cell_type": "code",
   "execution_count": 1,
   "id": "742bb961",
   "metadata": {},
   "outputs": [],
   "source": [
    "courses=['History','Maths','Physics','Comp Sci']"
   ]
  },
  {
   "cell_type": "code",
   "execution_count": 2,
   "id": "4a44b4e7",
   "metadata": {},
   "outputs": [],
   "source": [
    "#the append function\n",
    "courses.append('Art')"
   ]
  },
  {
   "cell_type": "code",
   "execution_count": 3,
   "id": "ee47af97",
   "metadata": {},
   "outputs": [
    {
     "data": {
      "text/plain": [
       "['History', 'Maths', 'Physics', 'Comp Sci', 'Art']"
      ]
     },
     "execution_count": 3,
     "metadata": {},
     "output_type": "execute_result"
    }
   ],
   "source": [
    "courses"
   ]
  },
  {
   "cell_type": "code",
   "execution_count": 6,
   "id": "828b0040",
   "metadata": {},
   "outputs": [],
   "source": [
    "#the insert function\n",
    "courses.insert(0,'Art')"
   ]
  },
  {
   "cell_type": "code",
   "execution_count": 7,
   "id": "5d41e237",
   "metadata": {},
   "outputs": [
    {
     "data": {
      "text/plain": [
       "['Art', 'Art', 'History', 'Maths', 'Physics', 'Comp Sci', 'Art']"
      ]
     },
     "execution_count": 7,
     "metadata": {},
     "output_type": "execute_result"
    }
   ],
   "source": [
    "courses"
   ]
  },
  {
   "cell_type": "code",
   "execution_count": null,
   "id": "85483c66",
   "metadata": {},
   "outputs": [],
   "source": []
  }
 ],
 "metadata": {
  "kernelspec": {
   "display_name": "Python 3 (ipykernel)",
   "language": "python",
   "name": "python3"
  },
  "language_info": {
   "codemirror_mode": {
    "name": "ipython",
    "version": 3
   },
   "file_extension": ".py",
   "mimetype": "text/x-python",
   "name": "python",
   "nbconvert_exporter": "python",
   "pygments_lexer": "ipython3",
   "version": "3.10.9"
  }
 },
 "nbformat": 4,
 "nbformat_minor": 5
}
